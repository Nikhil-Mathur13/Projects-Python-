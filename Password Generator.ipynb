{
 "cells": [
  {
   "cell_type": "code",
   "execution_count": 1,
   "metadata": {},
   "outputs": [
    {
     "name": "stdout",
     "output_type": "stream",
     "text": [
      "Entered Password =   123456788+\n",
      "Confirmed Password =  123565989\n",
      "Entered Password =   123456788+\n",
      "Confirmed Password =  123565989\n",
      "Entered Password =   123\n",
      "Confirmed Password =  123\n"
     ]
    }
   ],
   "source": [
    "from tkinter import *\n",
    "from functools import partial\n",
    "\n",
    "def validatepassword(ep , sp):\n",
    "    print(\"Entered Password =  \" , ep.get()) \n",
    "    print(\"Confirmed Password = \" , cp.get())\n",
    "\n",
    "    if ep.get() == cp.get():\n",
    "        Label(root , text = \"Password Confirmed\").grid(row = 5 , column = 0 )\n",
    "\n",
    "    else :\n",
    "            Label(root , text = \"Password Not Confirmed\").grid(row =  5, column = 0)\n",
    "\n",
    "\n",
    "root = Tk()\n",
    "root.geometry('280x100')\n",
    "root.title('*** Password Validator ***')\n",
    "\n",
    "Label1 = Label(root , text = \"Enter Password = \").grid(row = 0 , column = 0)\n",
    "ep = StringVar()\n",
    "\n",
    "passwordEntry = Entry(root , textvariable = ep , show = '*').grid(row = 0 , column = 1)\n",
    "\n",
    "Label2 = Label(root , text = \"Confirm Password\").grid(row = 1 , column = 0)\n",
    "cp = StringVar()\n",
    "confirmpasswordEntry = Entry(root , textvariable  = cp  , show = '*').grid(row = 1 , column = 1)\n",
    "\n",
    "\n",
    "validatepassword = partial(validatepassword , ep , cp )\n",
    "\n",
    "checkbutton = Button(root , text = \"Check\" , command = validatepassword ).grid(row = 4 , column = 0)\n",
    "\n",
    "root.mainloop()"
   ]
  }
 ],
 "metadata": {
  "kernelspec": {
   "display_name": "Python 3",
   "language": "python",
   "name": "python3"
  },
  "language_info": {
   "codemirror_mode": {
    "name": "ipython",
    "version": 3
   },
   "file_extension": ".py",
   "mimetype": "text/x-python",
   "name": "python",
   "nbconvert_exporter": "python",
   "pygments_lexer": "ipython3",
   "version": "3.9.13"
  }
 },
 "nbformat": 4,
 "nbformat_minor": 2
}
